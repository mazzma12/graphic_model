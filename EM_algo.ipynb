{
 "cells": [
  {
   "cell_type": "code",
   "execution_count": null,
   "metadata": {},
   "outputs": [],
   "source": [
    "#loading library\n",
    "import numpy as np\n",
    "import scipy as sp\n",
    "import pandas as pd\n",
    "from sklearn.cluster import KMeans"
   ]
  },
  {
   "cell_type": "code",
   "execution_count": null,
   "metadata": {},
   "outputs": [],
   "source": [
    "#loading data\n",
    "data = pd.read_table('EMGaussian.data', header = None, sep='\\s+', names = ('x1', 'x2'))\n",
    "test = pd.read_table('EMGaussian.test', header = None, sep='\\s+', names = ('x1', 'x2'))\n",
    "X = np.array(data)"
   ]
  },
  {
   "cell_type": "code",
   "execution_count": null,
   "metadata": {},
   "outputs": [],
   "source": [
    "X"
   ]
  },
  {
   "cell_type": "code",
   "execution_count": null,
   "metadata": {},
   "outputs": [],
   "source": [
    "#initialization\n",
    "K = 4\n",
    "[N,d] = data.shape #dimension of x\n",
    "kmean_res = KMeans(init = 'random', n_clusters=4).fit(data)\n",
    "lmu = kmean_res.cluster_centers_\n",
    "lsigma = [np.eye(2,2) for k in range(K)]\n",
    "lpi = [1/K for k in range(K)]"
   ]
  },
  {
   "cell_type": "code",
   "execution_count": null,
   "metadata": {},
   "outputs": [],
   "source": [
    "lmu"
   ]
  },
  {
   "cell_type": "code",
   "execution_count": null,
   "metadata": {},
   "outputs": [],
   "source": [
    "def compute_loglikelihood(X, Q, lpi, lmu, lsigma):\n",
    "    (N,d)=X.shape\n",
    "    lglklhd=0\n",
    "    for i in range(N):\n",
    "        for k in range(K):\n",
    "            lglklhd += Q[i,k]*np.log(sp.stats.multivariate_normal.pdf(X[i,:],lmu[k,:], lsigma[k])) + Q[i,k]*np.log(lpi[k])\n",
    "    return lglklhd"
   ]
  },
  {
   "cell_type": "code",
   "execution_count": null,
   "metadata": {},
   "outputs": [],
   "source": [
    "#lpi is 1d-array; lmu, X are 2d-arrays; lsig is a list\n",
    "\n",
    "Q = np.zeros((N,K))\n",
    "condition = False\n",
    "count = 0\n",
    "tol=0.001\n",
    "\n",
    "lglklhd=compute_loglikelihood(X,Q,lpi,lmu,lsigma)\n",
    "\n",
    "while(condition==False & count < 30):\n",
    "    \n",
    "    count += 1\n",
    "#E-step\n",
    "    for i in range(N):\n",
    "        denom=0\n",
    "        for k in range(K):\n",
    "            denom=denom+lpi[k]*sp.stats.multivariate_normal.pdf(X[i,:],lmu[k,:], lsigma[k])\n",
    "        for k in range(K):\n",
    "            Q[i,k]=lpi[k]*sp.stats.multivariate_normal.pdf(X[i,:],lmu[k,:], lsigma[k])/denom\n",
    "\n",
    "#M-step\n",
    "    for k in range(K):\n",
    "        #compute mu\n",
    "        denom_mu=np.zeros(2)\n",
    "        for i in range(N):\n",
    "            denom_mu += X[i,:]*Q[i,k]\n",
    "        lmu[k,:]= denom_mu/np.sum(Q[:,k])\n",
    "        #compute sigma\n",
    "        denom_sigma=np.matlib.zeros((2,2))\n",
    "        for i in range(N):\n",
    "            A=np.asmatrix(X[i,:]-lmu[k])\n",
    "            denom_sigma += A.T.dot(A)\n",
    "        lsigma[k]=np.asarray(denom_sigma/np.sum(Q[:,k]))\n",
    "        #compute pi\n",
    "        lpi[k]=np.sum(Q[:,k])/np.sum(Q)\n",
    "        \n",
    "        lg_past=lglklhd\n",
    "        lglklhd=compute_loglikelihood(X,Q,lpi,lmu,lsigma)\n",
    "        if (np.abs(lglklhd-lg_past<tol)):\n",
    "            condition=True\n",
    "        \n",
    "    "
   ]
  },
  {
   "cell_type": "code",
   "execution_count": null,
   "metadata": {},
   "outputs": [],
   "source": [
    "lmu"
   ]
  },
  {
   "cell_type": "code",
   "execution_count": null,
   "metadata": {},
   "outputs": [],
   "source": [
    "count"
   ]
  },
  {
   "cell_type": "code",
   "execution_count": null,
   "metadata": {},
   "outputs": [],
   "source": [
    "X[:,0]"
   ]
  },
  {
   "cell_type": "code",
   "execution_count": null,
   "metadata": {},
   "outputs": [],
   "source": [
    "#now let's plot \n",
    "from plotly.offline import download_plotlyjs, init_notebook_mode, plot, iplot\n",
    "\n",
    "from plotly.graph_objs import Scatter, Figure, Layout\n",
    "\n",
    "trace = Scatter(\n",
    "    x = X[:,0],\n",
    "    y = X[:,1],\n",
    "    mode = 'markers'\n",
    ")\n",
    "\n",
    "centroids = Scatter(\n",
    "    x = lmu[:,0]\n",
    "    y = lmu[:,1]\n",
    ")\n",
    "\n",
    "data = [trace]\n",
    "\n",
    "# Plot and embed in ipython notebook!\n",
    "iplot(data, filename='basic-scatter')"
   ]
  },
  {
   "cell_type": "code",
   "execution_count": null,
   "metadata": {},
   "outputs": [],
   "source": [
    "k=1\n",
    "np.dot(np.transpose((X - lmu[k])),(X - lmu[k]))"
   ]
  },
  {
   "cell_type": "code",
   "execution_count": null,
   "metadata": {},
   "outputs": [],
   "source": [
    "lmu[1]"
   ]
  },
  {
   "cell_type": "code",
   "execution_count": null,
   "metadata": {},
   "outputs": [],
   "source": [
    "mu0\n",
    "sigma0"
   ]
  },
  {
   "cell_type": "code",
   "execution_count": null,
   "metadata": {},
   "outputs": [],
   "source": [
    "from plotly.offline import download_plotlyjs, init_notebook_mode, plot, iplot\n",
    "\n",
    "from plotly.graph_objs import Scatter, Figure, Layout\n",
    "\n",
    "iplot([Scatter(x=[1, 2, 3], y=[3, 1, 6])])"
   ]
  },
  {
   "cell_type": "code",
   "execution_count": null,
   "metadata": {},
   "outputs": [],
   "source": []
  },
  {
   "cell_type": "code",
   "execution_count": null,
   "metadata": {},
   "outputs": [],
   "source": []
  }
 ],
 "metadata": {
  "language_info": {
   "name": "python",
   "pygments_lexer": "ipython3"
  }
 },
 "nbformat": 4,
 "nbformat_minor": 1
}
