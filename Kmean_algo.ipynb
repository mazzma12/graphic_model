{
 "cells": [
  {
   "cell_type": "code",
   "execution_count": null,
   "metadata": {},
   "outputs": [],
   "source": [
    "import pandas as pd\n",
    "import numpy as np\n",
    "import scipy as sp\n",
    "# some imports\n",
    "# plotting, set up plotly offline\n",
    "import plotly.offline as py\n",
    "\n",
    "\n",
    "import plotly.graph_objs as go\n",
    "\n",
    "\n",
    "#importing data\n",
    "\n",
    "data = pd.read_table('EMGaussian.data', header = None, sep='\\s+', names = ('x1', 'x2'))\n",
    "train = np.array(data)\n",
    "\n",
    "\n",
    "def norm_2(x):\n",
    "    return(sum(x*x)**0.5)\n",
    "\n",
    "def KMean_algo(X ='train', K = 4, norm = norm_2, tol = 0.000001):\n",
    "    (n,p) = np.shape(X)\n",
    "    #creating a n.K matrix full of zeros. Each row will contain one value one :\n",
    "    #when the point is closer to the centroid k \n",
    "    Z = np.zeros((n,K))\n",
    "    #we generate randomly the first centroid coordinate\n",
    "    #Each coordinate is stored in row\n",
    "    centroids = np.random.randn(K,p)\n",
    "    count = 0\n",
    "    while (count < 100):\n",
    "        count += 1\n",
    "        for i in range(n):\n",
    "            #We initiate the min distance to a high value\n",
    "            #index will contain the index of k in K whose vector is closest to \n",
    "            distance_min = 100\n",
    "            index_closer_centroid = 0\n",
    "            for k in range(K):\n",
    "                #We compute the distance of the i-th to each centroid k\n",
    "                distance_to_centroid = norm(X[i,:]-centroids[k,:])\n",
    "                if (distance_to_centroid < distance_min):\n",
    "                    distance_min = distance_to_centroid\n",
    "                    index_closer_centroid = k\n",
    "            Z[i, index_closer_centroid] = 1\n",
    "        #step 2 actualization of centroids\n",
    "        centroids_actualized = centroids\n",
    "        for k in range(K):\n",
    "            centroids_actualized[k,:] = np.sum(Z[:,k].reshape(-1,1)*X, axis = 0)/np.sum(Z[:,k])\n",
    "        if (np.all(abs(centroids-centroids_actualized) < tol)):\n",
    "            centroids = centroids_actualized\n",
    "            break\n",
    "    return(centroids, Z)\n",
    "\n",
    "def plot_centroids(X, Z, centroids):\n",
    "    \"\"\"X : points coordinates\n",
    "    Z : matrix with 0 and 1\n",
    "    \"\"\"\n",
    "    (n,K) = np.shape(Z)\n",
    "\n",
    "    x0 = (Z[:,0].reshape(-1,1)*X)[:,0]\n",
    "    x1 = (Z[:,1].reshape(-1,1)*X)[:,0]\n",
    "    x2 = (Z[:,2].reshape(-1,1)*X)[:,0]\n",
    "    #x3 = (Z[:,3].reshape(-1,1)*X)[:,0]\n",
    "\n",
    "    y0 = (Z[:,0].reshape(-1,1)*X)[:,1]\n",
    "    y1 = (Z[:,1].reshape(-1,1)*X)[:,1]\n",
    "    y2 = (Z[:,2].reshape(-1,1)*X)[:,1]\n",
    "    col= ['hsl('+str(h)+',50%'+',50%)' for h in np.linspace(0, 360, N)]\n",
    "    #y3 = (Z[:,3].reshape(-1,1)*X)[:,1]\n",
    "    x = [(Z[:,k].reshape(-1,1)*X)[:,0] for k in range(K)]\n",
    "    y = [(Z[:,k].reshape(-1,1)*X)[:,1] for k in range(K)]\n",
    "    \n",
    "    trace_cenroids = go.Scatter(\n",
    "    x = centroids[:,0],\n",
    "    y = centroids[:,1],\n",
    "    mode='markers',\n",
    "    name='centroids',\n",
    "    marker=dict(\n",
    "        size='16',\n",
    "    )\n",
    ")\n",
    "    # Create traces\n",
    "    trace = [go.Scatter( x = x[k], y = y[k], mode = 'markers', name = 'clusters '+str(k)) for k in range(K)]\n",
    "    trace.append(trace_cenroids)\n",
    "    data = trace\n",
    "    py.iplot(data, filename='Kmean plot')\n",
    "\n",
    "res = KMean_algo(train, K=3)\n",
    "Z = res[1]\n",
    "centroids = res[0]\n",
    "plot_centroids(train, Z, centroids)\n",
    " \n",
    "\n",
    "        \n",
    "    \n",
    "\n",
    "\n",
    "    "
   ]
  },
  {
   "cell_type": "code",
   "execution_count": null,
   "metadata": {},
   "outputs": [],
   "source": [
    "import plotly.offline as py\n",
    "X = train\n",
    "res = KMean_algo(train)\n",
    "Z = res[1]\n",
    "K = 4\n",
    "x = np.empty((500,4))\n",
    "import plotly.plotly as py\n",
    "import plotly.graph_objs as go\n",
    "name = ['cluster' for k in range(K)]\n",
    "\n",
    "# Create random data with numpy\n",
    "import numpy as np\n",
    "x = [(Z[:,k].reshape(-1,1)*X)[:,0] for k in range(K)]\n",
    "y = [(Z[:,k].reshape(-1,1)*X)[:,1] for k in range(K)]\n",
    "\n",
    "np.shape(x[0])\n",
    "x[0]\n",
    "name"
   ]
  },
  {
   "cell_type": "code",
   "execution_count": null,
   "metadata": {},
   "outputs": [],
   "source": [
    "import numpy as np\n",
    "import random\n",
    "A = np.arange(9).reshape(3,3)\n",
    "np.shape(A[1,:])\n",
    "np.sum(A, axis = 0)\n",
    "A\n"
   ]
  },
  {
   "cell_type": "code",
   "execution_count": null,
   "metadata": {},
   "outputs": [],
   "source": [
    "l = KMean_algo(X =train)"
   ]
  },
  {
   "cell_type": "code",
   "execution_count": null,
   "metadata": {},
   "outputs": [],
   "source": [
    "    col= ['hsl('+str(h)+',50%'+',50%)' for h in np.linspace(0, 360, N)]\n",
    "col[1]"
   ]
  },
  {
   "cell_type": "code",
   "execution_count": null,
   "metadata": {},
   "outputs": [],
   "source": [
    "np.sum(Z[:,2].reshape(-1,1)*train, axis = 0)"
   ]
  },
  {
   "cell_type": "code",
   "execution_count": null,
   "metadata": {},
   "outputs": [],
   "source": [
    "np.sum(b, axis = 0)"
   ]
  },
  {
   "cell_type": "code",
   "execution_count": null,
   "metadata": {},
   "outputs": [],
   "source": [
    "b\n"
   ]
  },
  {
   "cell_type": "code",
   "execution_count": null,
   "metadata": {},
   "outputs": [],
   "source": [
    "b < tol"
   ]
  },
  {
   "cell_type": "code",
   "execution_count": null,
   "metadata": {},
   "outputs": [],
   "source": []
  }
 ],
 "metadata": {
  "language_info": {
   "name": "python",
   "pygments_lexer": "ipython3"
  }
 },
 "nbformat": 4,
 "nbformat_minor": 1
}
