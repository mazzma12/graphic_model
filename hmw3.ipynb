{
 "cells": [
  {
   "cell_type": "code",
   "execution_count": 2,
   "metadata": {
    "collapsed": false
   },
   "outputs": [],
   "source": [
    "import numpy as np\n",
    "import pandas as pd\n",
    "from scipy.stats import multivariate_normal as mvn\n"
   ]
  },
  {
   "cell_type": "code",
   "execution_count": 4,
   "metadata": {
    "collapsed": false
   },
   "outputs": [],
   "source": [
    "data = pd.read_csv('EMGaussian.data', delim_whitespace=True, header=None, names=['x', 'y'])\n",
    "test = pd.read_csv('EMGaussian.test', delim_whitespace=True, header=None, names=['x', 'y'])"
   ]
  },
  {
   "cell_type": "code",
   "execution_count": 42,
   "metadata": {
    "collapsed": true
   },
   "outputs": [],
   "source": [
    "def forward(X, A, pi, mu, sigma):\n",
    "    (T, p) = X.shape\n",
    "    alpha = np.ones((T,K))\n",
    "    # The LOG of the messages alpha are contained in the matrix Alpha. \n",
    "    # The t-th row corresponds to the time t\n",
    "    # The k-th column corresponds to the case where the state takes the value k\n",
    "\n",
    "    # Computation of the first alpha(q_0)\n",
    "    for k in range(K):\n",
    "        # Watch out we directly use logpdf, not pdf\n",
    "        alpha[0,k] = mvn.logpdf(X[k], mu[k], sigma[k])*pi[k]\n",
    "\n",
    "    for t in range(1,T):\n",
    "        for k in range(K):\n",
    "            # Alpha message formula p9 chp 12.4 of the book\n",
    "            constant_term = mvn.logpdf(X[t-1], mu[k], sigma[k])\n",
    "            log_proba_vec = alpha[t-1] + np.log(A[:,k])\n",
    "            m = max(log_proba_vec)\n",
    "            alpha[t, k] = np.log(np.exp(log_proba_vec-m).sum()) + m + const\n",
    "            \n",
    "    return alpha"
   ]
  },
  {
   "cell_type": "code",
   "execution_count": 43,
   "metadata": {
    "collapsed": false
   },
   "outputs": [
    {
     "data": {
      "text/plain": [
       "array([[ -5.81460025e-01,  -6.07650734e+00,  -8.63118562e+00,\n",
       "         -1.10910930e+00],\n",
       "       [ -6.23218063e+01,  -6.31295416e+01,  -6.31342799e+01,\n",
       "         -6.25807546e+01],\n",
       "       [ -1.23802199e+02,  -1.24073679e+02,  -1.24074867e+02,\n",
       "         -1.23905209e+02],\n",
       "       ..., \n",
       "       [ -3.04318016e+04,  -3.04318016e+04,  -3.04318016e+04,\n",
       "         -3.04318016e+04],\n",
       "       [ -3.04930296e+04,  -3.04930296e+04,  -3.04930296e+04,\n",
       "         -3.04930296e+04],\n",
       "       [ -3.05542575e+04,  -3.05542575e+04,  -3.05542575e+04,\n",
       "         -3.05542575e+04]])"
      ]
     },
     "execution_count": 43,
     "metadata": {},
     "output_type": "execute_result"
    }
   ],
   "source": [
    "X = np.array(data)\n",
    "(T,p) = data.shape\n",
    "K = 4 # Number of states (assumed)\n",
    "\n",
    "#parameters of the MV Gaussian in R^2\n",
    "mu = np.ones((4,2)) # Mean mu1\n",
    "sigma = [np.eye(2) for k in range(K)]\n",
    "pi = 1.0/4 * np.ones(4)\n",
    "\n",
    "# Transition matrix\n",
    "A = np.eye(K)*(1/2-1/6) + np.ones((K,K))*1/6\n",
    "\n",
    "alpha = forward(X, A, pi , mu, sigma)\n",
    "alpha\n",
    "\n",
    "\n",
    "\n"
   ]
  },
  {
   "cell_type": "code",
   "execution_count": 40,
   "metadata": {
    "collapsed": false
   },
   "outputs": [
    {
     "data": {
      "text/plain": [
       "array([[ -5.81460025e-01,  -6.07650734e+00,  -8.63118562e+00,\n",
       "         -1.10910930e+00],\n",
       "       [ -6.23218063e+01,  -6.31295416e+01,  -6.31342799e+01,\n",
       "         -6.25807546e+01],\n",
       "       [ -1.23802199e+02,  -1.24073679e+02,  -1.24074867e+02,\n",
       "         -1.23905209e+02],\n",
       "       ..., \n",
       "       [ -3.04318016e+04,  -3.04318016e+04,  -3.04318016e+04,\n",
       "         -3.04318016e+04],\n",
       "       [ -3.04930296e+04,  -3.04930296e+04,  -3.04930296e+04,\n",
       "         -3.04930296e+04],\n",
       "       [ -3.05542575e+04,  -3.05542575e+04,  -3.05542575e+04,\n",
       "         -3.05542575e+04]])"
      ]
     },
     "execution_count": 40,
     "metadata": {},
     "output_type": "execute_result"
    }
   ],
   "source": []
  },
  {
   "cell_type": "code",
   "execution_count": null,
   "metadata": {
    "collapsed": true
   },
   "outputs": [],
   "source": []
  }
 ],
 "metadata": {
  "anaconda-cloud": {},
  "kernelspec": {
   "display_name": "Python [conda root]",
   "language": "python",
   "name": "conda-root-py"
  },
  "language_info": {
   "codemirror_mode": {
    "name": "ipython",
    "version": 3
   },
   "file_extension": ".py",
   "mimetype": "text/x-python",
   "name": "python",
   "nbconvert_exporter": "python",
   "pygments_lexer": "ipython3",
   "version": "3.5.2"
  }
 },
 "nbformat": 4,
 "nbformat_minor": 2
}
