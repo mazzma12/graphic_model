{
 "cells": [
  {
   "cell_type": "code",
   "execution_count": null,
   "metadata": {},
   "outputs": [],
   "source": [
    "#loading library\n",
    "import numpy as np\n",
    "import scipy as sp\n",
    "import pandas as pd\n",
    "from sklearn.cluster import KMeans"
   ]
  },
  {
   "cell_type": "code",
   "execution_count": null,
   "metadata": {},
   "outputs": [],
   "source": [
    "#loading data\n",
    "data = pd.read_table('EMGaussian.data', header = None, sep='\\s+', names = ('x1', 'x2'))\n",
    "test = pd.read_table('EMGaussian.test', header = None, sep='\\s+', names = ('x1', 'x2'))\n",
    "X = np.array(data)"
   ]
  },
  {
   "cell_type": "code",
   "execution_count": null,
   "metadata": {},
   "outputs": [],
   "source": [
    "X"
   ]
  },
  {
   "cell_type": "code",
   "execution_count": null,
   "metadata": {},
   "outputs": [],
   "source": [
    "#initialization\n",
    "K = 4\n",
    "[N,d] = data.shape #dimension of x\n",
    "kmean_res = KMeans(init = 'k-means++', n_clusters=4).fit(data)\n",
    "lmu = kmean_res.cluster_centers_\n",
    "lsigma = [np.eye(2,2) for k in range(K)]\n",
    "lpi = [1/K for k in range(K)]\n",
    "\n",
    "\n",
    "\n"
   ]
  },
  {
   "cell_type": "code",
   "execution_count": null,
   "metadata": {},
   "outputs": [],
   "source": [
    "m=np.zeros(2)\n",
    "m"
   ]
  },
  {
   "cell_type": "code",
   "execution_count": null,
   "metadata": {},
   "outputs": [],
   "source": [
    "k = 2\n",
    "i = 1\n",
    "lsigma[k]\n",
    "sp.stats.multivariate_normal.pdf(X[i,:],lmu[k,:], lsigma[k])"
   ]
  },
  {
   "cell_type": "code",
   "execution_count": null,
   "metadata": {},
   "outputs": [],
   "source": [
    "#E-step\n",
    "#lpi is 1d-array; lmu, X are 2d-arrays; lsig is a list\n",
    "Q = np.zeros((N,K))\n",
    "condition = False\n",
    "count = 0\n",
    "tol=0.001\n",
    "\n",
    "while(condition==False & count < 30):\n",
    "    \n",
    "    count += 1\n",
    "    lmu_past=lmu\n",
    "#    lsigma_past=lsigma\n",
    "\n",
    "    for i in range(N):\n",
    "        denom=0\n",
    "        for k in range(K):\n",
    "            denom=denom+lpi[k]*sp.stats.multivariate_normal.pdf(X[i,:],lmu[k,:], lsigma[k])\n",
    "        for k in range(K):\n",
    "            Q[i,k]=lpi[k]*sp.stats.multivariate_normal.pdf(X[i,:],lmu[k,:], lsigma[k])/denom\n",
    "\n",
    "    #M-step\n",
    "    for k in range(K):\n",
    "        #compute mu\n",
    "        denom_mu=np.zeros(2)\n",
    "        for i in range(N):\n",
    "            denom_mu += X[i,:]*Q[i,k]\n",
    "        lmu[k,:]= denom_mu/np.sum(Q[:,k])\n",
    "        #compute sigma\n",
    "        denom_sigma=np.matlib.zeros((2,2))\n",
    "        for i in range(N):\n",
    "            A=np.asmatrix(X[i,:]-lmu[k])\n",
    "            denom_sigma += A.T.dot(A)\n",
    "        lsigma[k]=np.asarray(denom_sigma/np.sum(Q[:,k]))\n",
    "        #compute pi\n",
    "        lpi[k]=np.sum(Q[:,k])/np.sum(Q)\n",
    "        \n",
    "    \n",
    "        if (np.sum(np.abs(lmu-lmu_past))<tol):\n",
    "            condition=True\n",
    "        \n",
    "    "
   ]
  },
  {
   "cell_type": "code",
   "execution_count": null,
   "metadata": {},
   "outputs": [],
   "source": [
    "count"
   ]
  },
  {
   "cell_type": "code",
   "execution_count": null,
   "metadata": {},
   "outputs": [],
   "source": [
    "A = np.arange(9).reshape(3,3)\n",
    "B = [1, 2, 3]\n",
    "t = np.dot(A-B, np.eye(3,3))\n",
    "np.dot(t,B)"
   ]
  },
  {
   "cell_type": "code",
   "execution_count": null,
   "metadata": {},
   "outputs": [],
   "source": [
    "count"
   ]
  },
  {
   "cell_type": "code",
   "execution_count": null,
   "metadata": {},
   "outputs": [],
   "source": [
    "#M-step\n",
    "for k in range(K):\n",
    "    #compute mu\n",
    "    lmu[k,:]= np.sum(Q[:,k].reshape(-1,1)*X)/np.sum(Q[:,k])\n",
    "    #compute sigma\n",
    "    diff = X- lmu[k]\n",
    "    diff=np.sqrt(Q[:,k].reshape(-1,1))*diff\n",
    "    num=np.zeros((2,2))\n",
    "    denom=np.sum(Q[:,k])\n",
    "    for i in range(N):\n",
    "        num=num+np.dot(np.transpose(diff[i,:]), diff[i,:])\n",
    "    #num is a 2x2 array, denom a float\n",
    "    lsigma[k]=num/denom\n",
    "    #compute pi\n",
    "    lpi[k]=np.sum(Q[:,k])/np.sum(Q)\n",
    "    \n",
    "    \n",
    "        \n",
    "    \n",
    "        "
   ]
  },
  {
   "cell_type": "code",
   "execution_count": null,
   "metadata": {},
   "outputs": [],
   "source": [
    "k=1\n",
    "np.dot(np.transpose((X - lmu[k])),(X - lmu[k]))"
   ]
  },
  {
   "cell_type": "code",
   "execution_count": null,
   "metadata": {},
   "outputs": [],
   "source": [
    "lmu[1]"
   ]
  },
  {
   "cell_type": "code",
   "execution_count": null,
   "metadata": {},
   "outputs": [],
   "source": [
    "mu0\n",
    "sigma0"
   ]
  },
  {
   "cell_type": "code",
   "execution_count": null,
   "metadata": {},
   "outputs": [],
   "source": []
  },
  {
   "cell_type": "code",
   "execution_count": null,
   "metadata": {},
   "outputs": [],
   "source": []
  },
  {
   "cell_type": "code",
   "execution_count": null,
   "metadata": {},
   "outputs": [],
   "source": []
  }
 ],
 "metadata": {
  "language_info": {
   "name": "python",
   "pygments_lexer": "ipython3"
  }
 },
 "nbformat": 4,
 "nbformat_minor": 1
}
