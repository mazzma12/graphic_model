{
 "cells": [
  {
   "cell_type": "code",
   "execution_count": null,
   "metadata": {},
   "outputs": [],
   "source": [
    "import numpy as np\n",
    "import matplotlib.pyplot as plt\n",
    "import scipy as sp\n",
    "from scipy import signal\n",
    "\n",
    "from sklearn.decomposition import FastICA, PCA"
   ]
  },
  {
   "cell_type": "code",
   "execution_count": null,
   "metadata": {},
   "outputs": [],
   "source": [
    "# Preprocessing tasks\n",
    "# Centering: OK, Scaling: OK\n",
    "def g(u):\n",
    "    return u*np.exp(-(u**2)/2)\n",
    "\n",
    "def g_prime(u):\n",
    "    return (1-u**2)*np.exp(-(u**2)/2)\n",
    "\n",
    "def decorrelation(w, W, j):\n",
    "    t = np.zeros_like(w)\n",
    "    w=w.reshape(-1,)\n",
    "    for u in range(j):\n",
    "        t = t + np.dot(w, W[u]) * W[u]\n",
    "        w -= t\n",
    "    w=w.reshape(-1,1)\n",
    "    return w\n",
    "\n",
    "def fastica(X, tol = 0.0001, t_max = 200):\n",
    "    \"Comuting fastICA on matrix X by the deflation method\"\n",
    "    n_comp = X.shape[0] #number of component\n",
    "    W = np.zeros((n_comp, n_comp), dtype=float)\n",
    "\n",
    "    # j is the index of the component\n",
    "    for j in range(n_comp):\n",
    "        w = np.random.normal(size=n_comp)\n",
    "        w = w.reshape(-1,1)\n",
    "        w /= np.sqrt((w**2).sum())\n",
    "        print('w' , w.shape)\n",
    "\n",
    "        n_iterations = 0\n",
    "        \n",
    "        test = tol + 1 \n",
    "        while ((test > tol) & (n_iterations < (t_max-1))):\n",
    "            wtx = np.dot(w.T, X)\n",
    "            gwtx = g(wtx)\n",
    "            g_prime_wtx = g_prime(wtx)\n",
    "            w1 = (X*gwtx).mean(axis=1).reshape(-1,1) - g_prime_wtx.mean()*w\n",
    "            w1 = decorrelation(w1, W, j)\n",
    "            w1 /= np.sqrt((w1**2).sum())\n",
    "\n",
    "            test = np.abs(np.abs((w1 * w).sum()) - 1)\n",
    "            w = w1\n",
    "            n_iterations = n_iterations + 1  \n",
    "        #actualisation\n",
    "        for k in range(j):\n",
    "            W[j,k] = w[k]\n",
    "\n",
    "    return W"
   ]
  },
  {
   "cell_type": "code",
   "execution_count": null,
   "metadata": {},
   "outputs": [],
   "source": [
    "#Generating Random signals \n",
    "np.random.seed(0)\n",
    "n_samples = 2000\n",
    "time = np.linspace(0, 8, n_samples) \n",
    "s1 = np.sin(2 * time)  # Signal 1 : sinusoidal signal\n",
    "s2 = np.sign(np.sin(3 * time))  # Signal 2 : square signal\n",
    "s3 = signal.sawtooth(2 * np.pi * time)  # Signal 3: saw tooth signal\n",
    "S = np.c_[s1, s2, s3]\n",
    "\n",
    "# Adding nois in the Signal matrix S\n",
    "S += 0.2 * np.random.normal(size=S.shape)\n",
    "S /= S.std(axis=0)  # Standardize data\n",
    "# Defining an arbitrary matrix A to mix the data\n",
    "A = np.array([[1, 1, 1], [0.5, 2, 1.0], [1.5, 1.0, 2.0]])\n",
    "X = np.dot(A, S.T)  # Mixing the signals \n"
   ]
  },
  {
   "cell_type": "code",
   "execution_count": null,
   "metadata": {},
   "outputs": [],
   "source": [
    "#using our function fastica to recover the signal  \n",
    "W = fastica(X)\n",
    "res = np.dot(W,X) #computing W*X sould give us the original signal matrix S\n",
    "Strans = S.T"
   ]
  },
  {
   "cell_type": "code",
   "execution_count": null,
   "metadata": {},
   "outputs": [],
   "source": [
    "plt.plot(res[2,:])\n",
    "plt.show()\n"
   ]
  },
  {
   "cell_type": "code",
   "execution_count": null,
   "metadata": {},
   "outputs": [],
   "source": [
    "plt.plot(Strans[2,:])\n",
    "plt.show()"
   ]
  },
  {
   "cell_type": "code",
   "execution_count": null,
   "metadata": {},
   "outputs": [],
   "source": []
  }
 ],
 "metadata": {
  "language_info": {
   "name": "python",
   "pygments_lexer": "ipython3"
  }
 },
 "nbformat": 4,
 "nbformat_minor": 1
}
